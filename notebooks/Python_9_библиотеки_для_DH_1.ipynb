{
  "nbformat": 4,
  "nbformat_minor": 0,
  "metadata": {
    "colab": {
      "provenance": [],
      "authorship_tag": "ABX9TyMGZYO+P1Be/k3NP+Gro2rk",
      "include_colab_link": true
    },
    "kernelspec": {
      "name": "python3",
      "display_name": "Python 3"
    },
    "language_info": {
      "name": "python"
    }
  },
  "cells": [
    {
      "cell_type": "markdown",
      "metadata": {
        "id": "view-in-github",
        "colab_type": "text"
      },
      "source": [
        "<a href=\"https://colab.research.google.com/github/AnnSenina/Python_DH_2023/blob/main/notebooks/Python_9_%D0%B1%D0%B8%D0%B1%D0%BB%D0%B8%D0%BE%D1%82%D0%B5%D0%BA%D0%B8_%D0%B4%D0%BB%D1%8F_DH_1.ipynb\" target=\"_parent\"><img src=\"https://colab.research.google.com/assets/colab-badge.svg\" alt=\"Open In Colab\"/></a>"
      ]
    },
    {
      "cell_type": "markdown",
      "source": [
        "# Базовая статистика"
      ],
      "metadata": {
        "id": "qo3fBrHvDiqR"
      }
    },
    {
      "cell_type": "code",
      "execution_count": null,
      "metadata": {
        "id": "DZNwkPGyDdL2"
      },
      "outputs": [],
      "source": [
        "# таблички\n",
        "import pandas as pd\n",
        "\n",
        "# статистика\n",
        "import numpy as np\n",
        "import scipy.stats as stats\n",
        "from scipy.stats.contingency import association\n",
        "\n",
        "# графика\n",
        "import matplotlib.pyplot as plt\n",
        "import seaborn as sns"
      ]
    },
    {
      "cell_type": "code",
      "source": [
        "df = pd.read_csv('https://raw.githubusercontent.com/AnnSenina/Python_DH_2023/main/data/BikeDataVar.csv')\n",
        "df"
      ],
      "metadata": {
        "id": "f2PzFS0REJke"
      },
      "execution_count": null,
      "outputs": []
    },
    {
      "cell_type": "code",
      "source": [
        "# быстрая базовая статистика\n",
        "df.describe()"
      ],
      "metadata": {
        "id": "GUT5cKjjERXb"
      },
      "execution_count": null,
      "outputs": []
    },
    {
      "cell_type": "code",
      "source": [
        "# диаграмма, построенная с помощью pandas\n",
        "# bins - количество столбиков\n",
        "df['Humidity'].hist(bins=50);"
      ],
      "metadata": {
        "id": "21XLnaQkEYFb"
      },
      "execution_count": null,
      "outputs": []
    },
    {
      "cell_type": "code",
      "source": [
        "# как найти выбросы:\n",
        "# обычно в исследованиях договариваются, что считать выбросами\n",
        "# стандартный путь - вычислить межквартильный размах (3 квартиль - 1 квартиль)\n",
        "# затем от этих квартилей заложить расстояние в 1.5 межквартильных размаха\n",
        "d = df.describe()['Rental Count']['75%'] - df.describe()['Rental Count']['25%'] # межквартильный размах\n",
        "\n",
        "print(len(df[df['Rental Count'] > df.describe()['Rental Count']['75%'] + 1.5 * d]), 'выбросов справа')\n",
        "print(len(df[df['Rental Count'] < df.describe()['Rental Count']['25%'] - 1.5 * d]), 'выбросов слева')"
      ],
      "metadata": {
        "id": "WI65RbHyIYuA"
      },
      "execution_count": null,
      "outputs": []
    },
    {
      "cell_type": "code",
      "source": [
        "plt.boxplot(df['Rental Count']);"
      ],
      "metadata": {
        "id": "lmUYN2hyHMCi"
      },
      "execution_count": null,
      "outputs": []
    },
    {
      "cell_type": "code",
      "source": [
        "d = df.describe()['Humidity']['75%'] - df.describe()['Humidity']['25%'] # межквартильный размах\n",
        "\n",
        "print(len(df[df['Humidity'] > df.describe()['Humidity']['75%'] + 1.5 * d]), 'выбросов справа')\n",
        "print(len(df[df['Humidity'] < df.describe()['Humidity']['25%'] - 1.5 * d]), 'выбросов слева')"
      ],
      "metadata": {
        "id": "dT9rOIgKI6Pb"
      },
      "execution_count": null,
      "outputs": []
    },
    {
      "cell_type": "code",
      "source": [
        "plt.boxplot(df['Humidity']);"
      ],
      "metadata": {
        "id": "lvwU6V3MHLS_"
      },
      "execution_count": null,
      "outputs": []
    },
    {
      "cell_type": "code",
      "source": [
        "# данные в pandas можно группировать\n",
        "df.groupby('Temperature Category')['Temperature'].median()"
      ],
      "metadata": {
        "id": "Zw36mUeLE5x5"
      },
      "execution_count": null,
      "outputs": []
    },
    {
      "cell_type": "markdown",
      "source": [
        "### сложности с модой...\n",
        "\n",
        "Для сгруппированных данных нельзя напрямую посчитать моду\n",
        "\n",
        "Но! Есть специальный метод .agg в pandas (агрегирование данных), который позволяет посчитать все, что угодно :)\n",
        "\n",
        "Документация [здесь](https://pandas.pydata.org/docs/reference/api/pandas.DataFrame.agg.html)\n",
        "\n",
        "А вот здесь есть еще одна [тетрадка с примерами](https://dfedorov.spb.ru/pandas/%D0%9E%D0%B1%D1%8A%D1%8F%D1%81%D0%BD%D0%B5%D0%BD%D0%B8%D0%B5%20%D1%84%D1%83%D0%BD%D0%BA%D1%86%D0%B8%D0%B9%20Grouper%20%D0%B8%20Agg%20%D0%B2%20Pandas.html) "
      ],
      "metadata": {
        "id": "BrPeRdk2FM2Q"
      }
    },
    {
      "cell_type": "code",
      "source": [
        "df.groupby('Temperature Category')['Temperature'].agg(pd.Series.mode)"
      ],
      "metadata": {
        "id": "iiVJBzqqFFmk"
      },
      "execution_count": null,
      "outputs": []
    },
    {
      "cell_type": "code",
      "source": [
        "df.groupby('Seasons')['Temperature Category'].agg(pd.Series.mode)\n",
        "# даже моду к категориальным данным, сгруппированным по другой категориальной переменной :)"
      ],
      "metadata": {
        "id": "c7YC4b_CFQfN"
      },
      "execution_count": null,
      "outputs": []
    },
    {
      "cell_type": "markdown",
      "source": [
        "# Корреляционный анализ\n",
        "\n",
        "Поиск зависимостей"
      ],
      "metadata": {
        "id": "mKUq55GBFv9P"
      }
    },
    {
      "cell_type": "code",
      "source": [
        "df.corr() # метод, встроенный в pandas\n",
        "# работает для всех числовых значений датафрейма"
      ],
      "metadata": {
        "id": "DJDzdkfIF1al"
      },
      "execution_count": null,
      "outputs": []
    },
    {
      "cell_type": "code",
      "source": [
        "# обычно фильтруют\n",
        "\n",
        "df[['Temperature',\t'Humidity',\t'Wind speed',\t'Rainfall',\t'Snowfall']].corr() "
      ],
      "metadata": {
        "id": "6mogGqLIGInp"
      },
      "execution_count": null,
      "outputs": []
    },
    {
      "cell_type": "code",
      "source": [
        "# очень распространенная визуализация - тепловая карта\n",
        "# https://seaborn.pydata.org/generated/seaborn.heatmap.html\n",
        "sns.heatmap(df[['Temperature',\t'Humidity',\t'Wind speed',\t'Rainfall',\t'Snowfall']].corr());"
      ],
      "metadata": {
        "id": "YfH8S-3oHw2w"
      },
      "execution_count": null,
      "outputs": []
    },
    {
      "cell_type": "code",
      "source": [
        "# давайте ее еще немного настроим\n",
        "sns.heatmap(df[['Temperature',\t'Humidity',\t'Wind speed',\t'Rainfall',\t'Snowfall']].corr(), cmap='RdYlGn', center=0, annot=True)\n",
        "plt.title('Correlogram', fontsize=22);"
      ],
      "metadata": {
        "id": "9TX_12x2H28L"
      },
      "execution_count": null,
      "outputs": []
    },
    {
      "cell_type": "markdown",
      "source": [
        "### таблицы сопряженности"
      ],
      "metadata": {
        "id": "FyEgDU_HFeKF"
      }
    },
    {
      "cell_type": "markdown",
      "source": [
        "Для работы с категориальными данными придется поступать по-другому"
      ],
      "metadata": {
        "id": "X-efbER_FqbC"
      }
    },
    {
      "cell_type": "code",
      "source": [
        "df_cat = pd.crosstab(df['Seasons'], df['Temperature Category']) # пока без промежуточных и итоговых сумм\n",
        "df_cat"
      ],
      "metadata": {
        "id": "C3ObS-8tFgfq"
      },
      "execution_count": null,
      "outputs": []
    },
    {
      "cell_type": "code",
      "source": [
        "stats.chi2_contingency(df_cat)"
      ],
      "metadata": {
        "id": "t1NA4zYCJMnd"
      },
      "execution_count": null,
      "outputs": []
    },
    {
      "cell_type": "markdown",
      "source": [
        "### Что это и как читать результат? \n",
        "\n",
        "Категориальные данные представлять числами некорректно - но для них можно составить частотную таблицу.\n",
        "\n",
        "Далее будем проверять критерий хи-квадрат независимости Пирсона (внимание! критериев хи-квадрат - несколько, а основанных на них метрик - еще больше (тоный тест Фишера, коэффициент корреляции Крамера и др.)\n",
        "\n",
        "Когда работаем с критерием хи-квадрат независимости, общая идея такая:\n",
        "\n",
        "* нулевая гипотеза: переменные независимы друг от друга\n",
        "\n",
        "* альтернативная гипотеза: между переменными етсь связь\n",
        "\n",
        "* если pvalue <= 0.05, значит, нулевая гипотеза отвергается, переменные связаны\n",
        "\n",
        "* если pvalue > 0.05, отвегрнуть нулевую гипотезу нельзя, переменные независимы друг от друга"
      ],
      "metadata": {
        "id": "tAdo-JTrJd0c"
      }
    },
    {
      "cell_type": "code",
      "source": [
        "def vcramer(table):\n",
        "    chi, p, _, _ = stats.chi2_contingency(table,correction=False)\n",
        "    n = table.sum()\n",
        "    r,c = table.shape\n",
        "    return np.sqrt(chi/(n*(min(r,c)-1.))), p\n",
        "\n",
        "vcramer(df_cat.values) \n",
        "# Крамер - коэффициент корреляции для категориальных данных\n",
        "# Правда идеальный вариант - когда его считают к таблице 2 на 2, так результат точнее"
      ],
      "metadata": {
        "id": "ao9SspC9KGBD"
      },
      "execution_count": null,
      "outputs": []
    }
  ]
}
