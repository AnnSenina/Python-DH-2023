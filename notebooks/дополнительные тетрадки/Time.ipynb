{
  "nbformat": 4,
  "nbformat_minor": 0,
  "metadata": {
    "colab": {
      "provenance": [],
      "include_colab_link": true
    },
    "kernelspec": {
      "name": "python3",
      "display_name": "Python 3"
    },
    "language_info": {
      "name": "python"
    }
  },
  "cells": [
    {
      "cell_type": "markdown",
      "metadata": {
        "id": "view-in-github",
        "colab_type": "text"
      },
      "source": [
        "<a href=\"https://colab.research.google.com/github/AnnSenina/Python_DH_2023/blob/main/notebooks/%D0%B4%D0%BE%D0%BF%D0%BE%D0%BB%D0%BD%D0%B8%D1%82%D0%B5%D0%BB%D1%8C%D0%BD%D1%8B%D0%B5%20%D1%82%D0%B5%D1%82%D1%80%D0%B0%D0%B4%D0%BA%D0%B8/Time.ipynb\" target=\"_parent\"><img src=\"https://colab.research.google.com/assets/colab-badge.svg\" alt=\"Open In Colab\"/></a>"
      ]
    },
    {
      "cell_type": "code",
      "metadata": {
        "id": "1JVuSFW2QsYB",
        "colab": {
          "base_uri": "https://localhost:8080/"
        },
        "outputId": "e4c1e6d7-b896-4713-b1c3-1d9b04ffd2ce"
      },
      "source": [
        "print('Введите по очереди день, месяц, год первой даты и второй даты:')\n",
        "d1 = int(input())\n",
        "m1 = int(input())\n",
        "y1 = int(input())\n",
        "d2 = int(input())\n",
        "m2 = int(input()) - 1\n",
        "y2 = int(input())\n",
        "days = 0 #количество дней между годами\n",
        "month = 0 #количество дней до конца года\n",
        "month_end = 0 #количество дней от начала года\n",
        "if y1 != y2:\n",
        "    while m1 < 13:\n",
        "        if m1 < 8 and m1 % 2 != 0 and m1 != 2:\n",
        "            month += 31\n",
        "        elif m1 < 8 and m1 % 2 == 0 and m1 != 2:\n",
        "            month += 30\n",
        "        elif m1 >= 8 and m1 % 2 == 0 and m1 != 2:\n",
        "            month += 31\n",
        "        elif m1 >= 8 and m1 % 2 != 0 and m1 != 2:\n",
        "            month += 30\n",
        "        elif m1 == 2:\n",
        "            if y1 % 4 != 0:\n",
        "                month += 28\n",
        "            else:\n",
        "                month += 29\n",
        "        m1 += 1\n",
        "    month = month - d1 #количество дней до конца года\n",
        "    while y1 != y2 - 1:\n",
        "        if  y1 % 4 != 0:\n",
        "            days += 365\n",
        "        else:\n",
        "            days += 366\n",
        "        y1 += 1\n",
        "    while m2 > 0:\n",
        "        if m2 < 8 and m2 % 2 != 0 and m2 != 2:\n",
        "            month_end += 31\n",
        "        elif m2 < 8 and m2 % 2 == 0 and m2 != 2:\n",
        "            month_end += 30\n",
        "        elif m2 >= 8 and m2 % 2 == 0 and m2 != 2:\n",
        "            month_end += 31\n",
        "        elif m2 >= 8 and m2 % 2 != 0 and m2 != 2:\n",
        "            month_end += 30\n",
        "        elif m2 == 2:\n",
        "            if y2 % 4 != 0:\n",
        "                month_end += 28\n",
        "            else:\n",
        "                month_end += 29\n",
        "        m2 -= 1\n",
        "    month_end += d2\n",
        "else:\n",
        "    while m2 > 0:\n",
        "        if m2 < 8 and m2 % 2 != 0 and m2 != 2:\n",
        "            month_end += 31\n",
        "        elif m2 < 8 and m2 % 2 == 0 and m2 != 2:\n",
        "            month_end += 30\n",
        "        elif m2 >= 8 and m2 % 2 == 0 and m2 != 2:\n",
        "            month_end += 31\n",
        "        elif m2 >= 8 and m2 % 2 != 0 and m2 != 2:\n",
        "            month_end += 30\n",
        "        elif m2 == 2:\n",
        "            if y2 % 4 != 0:\n",
        "                month_end += 28\n",
        "            else:\n",
        "                month_end += 29\n",
        "        m2 -= 1\n",
        "    month_end += d2\n",
        "    m1 -= 1\n",
        "    while m1 > 0:\n",
        "        if m1 < 8 and m1 % 2 != 0 and m1 != 2:\n",
        "            month += 31\n",
        "        elif m1 < 8 and m1 % 2 == 0 and m1 != 2:\n",
        "            month += 30\n",
        "        elif m1 >= 8 and m1 % 2 == 0 and m1 != 2:\n",
        "            month += 31\n",
        "        elif m1 >= 8 and m1 % 2 != 0 and m1 != 2:\n",
        "            month += 30\n",
        "        elif m1 == 2:\n",
        "            if y1 % 4 != 0:\n",
        "                month += 28\n",
        "            else:\n",
        "                month += 29\n",
        "        m1 -= 1\n",
        "    month += d1\n",
        "    month = month_end - month\n",
        "    month_end = 0\n",
        "z = str(0) + str(days + month_end + month)\n",
        "if int(z[-1]) == 1 and int(z[-2] + z[-1]) != 11:\n",
        "    print(\"Между этими датами прошло:\", int(z), \"день\")\n",
        "elif (int(z[-1]) == 2 or int(z[-1]) == 3 or int(z[-1]) == 4) and ((11 > int(z[-2] + z[-1])) or (15 < int(z[-2] + z[-1]))):\n",
        "    print (\"Между этими датами прошло:\", int(z), \"дня\")\n",
        "else:\n",
        "    print (\"Между этими датами прошло:\", int(z), \"дней\")"
      ],
      "execution_count": null,
      "outputs": [
        {
          "output_type": "stream",
          "name": "stdout",
          "text": [
            "Введите по очереди день, месяц, год первой даты и второй даты:\n",
            "21\n",
            "12\n",
            "1995\n",
            "22\n",
            "9\n",
            "2022\n",
            "Между этими датами прошло: 9772 дня\n"
          ]
        }
      ]
    }
  ]
}