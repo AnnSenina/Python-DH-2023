{
  "nbformat": 4,
  "nbformat_minor": 0,
  "metadata": {
    "colab": {
      "provenance": [],
      "include_colab_link": true
    },
    "kernelspec": {
      "name": "python3",
      "display_name": "Python 3"
    },
    "language_info": {
      "name": "python"
    }
  },
  "cells": [
    {
      "cell_type": "markdown",
      "metadata": {
        "id": "view-in-github",
        "colab_type": "text"
      },
      "source": [
        "<a href=\"https://colab.research.google.com/github/AnnSenina/Python_DH_2023/blob/main/notebooks/%D0%B4%D0%BE%D0%BF%D0%BE%D0%BB%D0%BD%D0%B8%D1%82%D0%B5%D0%BB%D1%8C%D0%BD%D1%8B%D0%B5%20%D1%82%D0%B5%D1%82%D1%80%D0%B0%D0%B4%D0%BA%D0%B8/%D0%94%D0%BE%D0%BF%D0%BE%D0%BB%D0%BD%D0%B8%D1%82%D0%B5%D0%BB%D1%8C%D0%BD%D1%8B%D0%B5_%D0%B7%D0%B0%D0%B4%D0%B0%D1%87%D0%B8_2__%D1%80%D0%B5%D1%88%D0%B5%D0%BD%D0%B8%D1%8F.ipynb\" target=\"_parent\"><img src=\"https://colab.research.google.com/assets/colab-badge.svg\" alt=\"Open In Colab\"/></a>"
      ]
    },
    {
      "cell_type": "markdown",
      "source": [
        "### Олимпиада"
      ],
      "metadata": {
        "id": "Y6wmc2yhQTiU"
      }
    },
    {
      "cell_type": "code",
      "execution_count": null,
      "metadata": {
        "id": "WbipZUFcQSbn"
      },
      "outputs": [],
      "source": [
        "l = input().split(', ')\n",
        "sumN = int(l[0][:l[0].find(' ')]) + int(l[1][:l[1].find(' ')]) + int(l[2][:l[2].find(' ')])\n",
        "print(sumN / 3)"
      ]
    },
    {
      "cell_type": "markdown",
      "source": [
        "## Электронная почта"
      ],
      "metadata": {
        "id": "3eHwnsiXQW4H"
      }
    },
    {
      "cell_type": "code",
      "source": [
        "s = input()\n",
        "print(s.count('@'))"
      ],
      "metadata": {
        "id": "ULrWcQ7sQfO4"
      },
      "execution_count": null,
      "outputs": []
    },
    {
      "cell_type": "markdown",
      "source": [
        "## Обеды"
      ],
      "metadata": {
        "id": "N2nI4ELcQgDK"
      }
    },
    {
      "cell_type": "code",
      "source": [
        "price = list(map(float, input().split(', ')))\n",
        "print(min(price[:5]))"
      ],
      "metadata": {
        "id": "wI5IIa6oQzcm"
      },
      "execution_count": null,
      "outputs": []
    },
    {
      "cell_type": "markdown",
      "source": [
        "## Шифр"
      ],
      "metadata": {
        "id": "bfvJwseDQ8pm"
      }
    },
    {
      "cell_type": "code",
      "source": [
        "mail = input().split()\n",
        "print(mail[0][2:-2], mail[1][2:-2], mail[2][2:-2], mail[3][2:-2], sep=' ')"
      ],
      "metadata": {
        "id": "wLlVYBz7Q30d"
      },
      "execution_count": null,
      "outputs": []
    },
    {
      "cell_type": "markdown",
      "source": [
        "## Студент"
      ],
      "metadata": {
        "id": "36bbYb1RRMph"
      }
    },
    {
      "cell_type": "code",
      "source": [
        "student = ('Иван Питонов', 2001, [8, 7, 7, 9, 6]) \n",
        "print('Студент:', student[0][-7:] + ',', student[0][:4])\n",
        "print('Возраст:', (2022 - student[1]))\n",
        "print('Оценки:',', '.join(map(str, student[2])))\n",
        "print('Средний балл:', sum(student[2]) / len(student[2]))"
      ],
      "metadata": {
        "id": "qmAXLy94ROYM"
      },
      "execution_count": null,
      "outputs": []
    },
    {
      "cell_type": "markdown",
      "source": [
        "## Слова"
      ],
      "metadata": {
        "id": "vGWrg-KmRO7Q"
      }
    },
    {
      "cell_type": "code",
      "source": [
        "l = input().split(' ')\n",
        "print(len(l))"
      ],
      "metadata": {
        "id": "2trSWJrYRSk5"
      },
      "execution_count": null,
      "outputs": []
    },
    {
      "cell_type": "markdown",
      "source": [
        "## Уникальные слова"
      ],
      "metadata": {
        "id": "R1i355vsRVfF"
      }
    },
    {
      "cell_type": "code",
      "source": [
        "l = input().split(' ')\n",
        "m = set(l)\n",
        "print(len(m))"
      ],
      "metadata": {
        "id": "LAh7ar6eRWMZ"
      },
      "execution_count": null,
      "outputs": []
    },
    {
      "cell_type": "markdown",
      "source": [
        "## Количество различных чисел"
      ],
      "metadata": {
        "id": "PqElTOT3RXrU"
      }
    },
    {
      "cell_type": "code",
      "source": [
        "n = list(map(int, input().split()))\n",
        "print(len(set(n)))"
      ],
      "metadata": {
        "id": "V8CTwIoMRb4V"
      },
      "execution_count": null,
      "outputs": []
    },
    {
      "cell_type": "markdown",
      "source": [
        "## Факультативы (множества)"
      ],
      "metadata": {
        "id": "einkUAKJRdR2"
      }
    },
    {
      "cell_type": "code",
      "source": [
        "stud = input().split('; ')\n",
        "stud =  set(stud[0].split()) & set(stud[1].split()) & set(stud[2].split())\n",
        "print(len(set(stud)))"
      ],
      "metadata": {
        "id": "d9FtiOI6Rgtz"
      },
      "execution_count": null,
      "outputs": []
    },
    {
      "cell_type": "markdown",
      "source": [
        "## Словарь"
      ],
      "metadata": {
        "id": "pHsyyVP7Ri1B"
      }
    },
    {
      "cell_type": "code",
      "source": [
        "dict_of_lists = {'Список1': [{'Python': 'язык программирования'}, {'R':'язык программирования', 'LaTEX' : 'язык верстки' }], \n",
        "                 'Список2' : [{'Windows' : ['операционная система', 'разработчик'], 'UNIX' : 'операционная система'},\n",
        "                              {'IBM': ['компания-производитель', 'разработчик'], 'IPv6' : 'интернет-протокол' }]}\n",
        "print(dict_of_lists['Список2'][0]['Windows'][1])"
      ],
      "metadata": {
        "id": "VYFzT5EhRkiq"
      },
      "execution_count": null,
      "outputs": []
    }
  ]
}