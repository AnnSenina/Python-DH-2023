{
  "nbformat": 4,
  "nbformat_minor": 0,
  "metadata": {
    "colab": {
      "provenance": [],
      "include_colab_link": true
    },
    "kernelspec": {
      "name": "python3",
      "display_name": "Python 3"
    },
    "language_info": {
      "name": "python"
    }
  },
  "cells": [
    {
      "cell_type": "markdown",
      "metadata": {
        "id": "view-in-github",
        "colab_type": "text"
      },
      "source": [
        "<a href=\"https://colab.research.google.com/github/AnnSenina/Python_DH_2023/blob/main/notebooks/%D0%B4%D0%BE%D0%BF%D0%BE%D0%BB%D0%BD%D0%B8%D1%82%D0%B5%D0%BB%D1%8C%D0%BD%D1%8B%D0%B5%20%D1%82%D0%B5%D1%82%D1%80%D0%B0%D0%B4%D0%BA%D0%B8/Time%2Bdef.ipynb\" target=\"_parent\"><img src=\"https://colab.research.google.com/assets/colab-badge.svg\" alt=\"Open In Colab\"/></a>"
      ]
    },
    {
      "cell_type": "code",
      "metadata": {
        "id": "1JVuSFW2QsYB",
        "colab": {
          "base_uri": "https://localhost:8080/"
        },
        "outputId": "fe0932a1-5d92-4d0b-c21a-9b56bba32732"
      },
      "source": [
        "def days_in_month(d, m, month, y):\n",
        "  while m < 13:\n",
        "    if m < 8 and m % 2 != 0 and m != 2:\n",
        "      month += 31\n",
        "    elif m < 8 and m % 2 == 0 and m != 2:\n",
        "      month += 30\n",
        "    elif m >= 8 and m % 2 == 0 and m != 2:\n",
        "      month += 31\n",
        "    elif m >= 8 and m % 2 != 0 and m != 2:\n",
        "      month += 30\n",
        "    elif m == 2:\n",
        "      if y % 4 != 0:\n",
        "        month += 28\n",
        "      else:\n",
        "        month += 29\n",
        "    m += 1\n",
        "  month = month - d\n",
        "  return month\n",
        "\n",
        "\n",
        "print('Введите по очереди день, месяц, год первой даты и второй даты:')\n",
        "d1 = int(input())\n",
        "m1 = int(input())\n",
        "y1 = int(input())\n",
        "d2 = int(input())\n",
        "m2 = int(input())\n",
        "y2 = int(input())\n",
        "days = 0 #количество дней между годами\n",
        "month = 0 #количество дней до конца года\n",
        "month_end = 0 #количество дней от начала года\n",
        "if y1 != y2: # разные годы\n",
        "    month = days_in_month(d1, m1, month, y1)\n",
        "    while y1 != y2 - 1:\n",
        "        if  y1 % 4 != 0:\n",
        "            days += 365\n",
        "        else:\n",
        "            days += 366\n",
        "        y1 += 1\n",
        "    if  y2 % 4 != 0:\n",
        "        month_end = 365 - days_in_month(d2, m2, month_end, y2)\n",
        "    else:\n",
        "        month_end = 366 - days_in_month(d2, m2, month_end, y2)\n",
        "else: #события в 1 год\n",
        "    month = days_in_month(d1, m1, month, y1)\n",
        "    month_end = days_in_month(d2, m2, month_end, y2)\n",
        "    month = month - month_end \n",
        "    month_end = 0\n",
        "z = str(0) + str(days + month_end + month) # вывод на печать\n",
        "if int(z[-1]) == 1 and int(z[-2] + z[-1]) != 11:\n",
        "    print(\"Между этими датами прошло:\", int(z), \"день\")\n",
        "elif (int(z[-1]) == 2 or int(z[-1]) == 3 or int(z[-1]) == 4) and ((11 > int(z[-2] + z[-1])) or (15 < int(z[-2] + z[-1]))):\n",
        "    print(\"Между этими датами прошло:\", int(z), \"дня\")\n",
        "else:\n",
        "    print(\"Между этими датами прошло:\", int(z), \"дней\")"
      ],
      "execution_count": null,
      "outputs": [
        {
          "output_type": "stream",
          "name": "stdout",
          "text": [
            "Введите по очереди день, месяц, год первой даты и второй даты:\n",
            "7\n",
            "1\n",
            "1993\n",
            "30\n",
            "5\n",
            "2022\n",
            "Между этими датами прошло: 10735 дней\n"
          ]
        }
      ]
    }
  ]
}