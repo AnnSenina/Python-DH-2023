{
  "nbformat": 4,
  "nbformat_minor": 0,
  "metadata": {
    "colab": {
      "provenance": [],
      "authorship_tag": "ABX9TyPiI2yfI81qCZLQdXl9T26Q",
      "include_colab_link": true
    },
    "kernelspec": {
      "name": "python3",
      "display_name": "Python 3"
    },
    "language_info": {
      "name": "python"
    }
  },
  "cells": [
    {
      "cell_type": "markdown",
      "metadata": {
        "id": "view-in-github",
        "colab_type": "text"
      },
      "source": [
        "<a href=\"https://colab.research.google.com/github/AnnSenina/Python_DH_2023/blob/main/notebooks/%D0%B4%D0%BE%D0%BF%D0%BE%D0%BB%D0%BD%D0%B8%D1%82%D0%B5%D0%BB%D1%8C%D0%BD%D1%8B%D0%B5%20%D1%82%D0%B5%D1%82%D1%80%D0%B0%D0%B4%D0%BA%D0%B8/%D0%92%D0%B0%D0%B6%D0%BD%D1%8B%D0%B5_%D1%81%D1%81%D1%8B%D0%BB%D0%BA%D0%B8_%D0%B4%D0%BB%D1%8F_%D0%B4%D0%B0%D0%BB%D1%8C%D0%BD%D0%B5%D0%B9%D1%88%D0%B5%D0%B9_%D1%80%D0%B0%D0%B1%D0%BE%D1%82%D1%8B_%D1%81_%D0%B1%D0%BE%D1%82%D0%B0%D0%BC%D0%B8.ipynb\" target=\"_parent\"><img src=\"https://colab.research.google.com/assets/colab-badge.svg\" alt=\"Open In Colab\"/></a>"
      ]
    },
    {
      "cell_type": "markdown",
      "source": [
        "# Документация\n",
        "\n",
        "* Полная документация по telebot на английском [здесь](https://core.telegram.org/bots/api#recent-changes)\n",
        "* Частитчно на русском - [здесь](https://pytba.readthedocs.io/ru/latest/index.html#)\n",
        "* Исходынй код, обучение и много примеров использования функционала бота на [гитхабе](https://github.com/eternnoir/pyTelegramBotAPI)\n"
      ],
      "metadata": {
        "id": "moDQOZ21JG3m"
      }
    },
    {
      "cell_type": "markdown",
      "source": [
        "## Несколько полезных советов\n",
        "ответ от пользователя лучше предобработать: \n",
        "\n",
        "* перевести в нижний регистр - метод .lower() \n",
        "* а лучше также удалить пунктуацию и лишние пробельные символы в начале и конце слова strip() + translate(str.maketrans('', '', string.punctuation))\n",
        "\n",
        "Тогда вы не только считаете строку по точному соответствию, но и захватите все возможные варианты: Привет, привет, ПРИВЕТ, пРИВЕТ, привет!!! и т.д.\n",
        "\n"
      ],
      "metadata": {
        "id": "H8w5UuTSJyk-"
      }
    },
    {
      "cell_type": "markdown",
      "source": [
        "если вам хочется добавить в текст жирный шрифт, курсив, зачеркнутый и т.д. или красиво встроить длинную ссылку, на помощь приходит разметка: Markdown или HTML\n",
        "* в вашем текстовом сообщении, которое будет отправлять бот, используйте символы / теги для разметки\n",
        "* в конце этого сообшения добавьте parse_mode=\"Markdown\" (HTML)\n",
        "* инструкция по размете в документации по [ссылке](https://core.telegram.org/bots/api#formatting-options)"
      ],
      "metadata": {
        "id": "14ZRUYZ7Lm-K"
      }
    },
    {
      "cell_type": "markdown",
      "source": [
        "К сожалению, когда мы прописываем сообщение для пользователя, наша команда не работает как питоновская функция print: это значит, что параметр sep= и оператор распаковки * работать не будут.\n",
        "\n",
        "Но! Если вам нужно красиво напечатать список, воспользуйтесь строковым методом \" \".join()"
      ],
      "metadata": {
        "id": "zgdm5Hu3NexX"
      }
    },
    {
      "cell_type": "markdown",
      "source": [
        "Если хочется внести в бот интерактив с помощью random, встройте саму команду random.choise в код бота (а не запускайте один раз перед кодом бота) - тогда новый ответ будет каждый раз случайно генерироваться при каждом взаимодействии с ботом"
      ],
      "metadata": {
        "id": "vGGoCQohN5b2"
      }
    },
    {
      "cell_type": "markdown",
      "source": [
        "## Клавиатуры\n",
        "\n",
        "Бывают двух разных типов: KeyBoard и InlineKeyBoard\n",
        "\n",
        "* первые проще, но более статичны: при нажатии на кнопку в чат отправляется сообщение\n",
        "* можно научить бот изменять клавиатуру после определенного вопроса\n",
        "* второй вариант - гибкие инлайн-клавиатуры: при нажатии на кнопку не происходит отправка сообщения, но если добавите в код обработчик обратной связи от этой клавиатуры @bot.callback_query_handler(func=lambda call: True), сможете добавить множество инструкций, что должно происходить при нажатии на кнопку\n",
        "\n",
        "Хорошие и простые примеры, как не бояться инлайн-клавиатур: от [разработчиков библиотеки](https://github.com/eternnoir/pyTelegramBotAPI/blob/master/examples/inline_keyboard_example.py) и с [просторов интернета](https://pocketadmin.tech/ru/telegram-bot-%D0%BD%D0%B0-python/) (в последнем примере бота собирают пошагово и с нуля)"
      ],
      "metadata": {
        "id": "f_BDN8v_L_Ne"
      }
    },
    {
      "cell_type": "markdown",
      "source": [
        "# Бесплатный сервер"
      ],
      "metadata": {
        "id": "1jriHaG_OX5e"
      }
    },
    {
      "cell_type": "markdown",
      "source": [
        "Раньше было много доступных и бесплатных платформ для поддержания жищни в нашем боте - Heroku, Google Cloud Console и другие\n",
        "\n",
        "Сегодня они либо не регистрируют пользователей из России, либо при регистрации запрашивают данные любой не-российской банковской карты\n",
        "\n",
        "Сервер - это компьютер, который будет держать нашего бота запущенным постоянно, отсюда Google Colab - это только сервер на пару часов, после этого он удалит все переменные и временные файлы\n",
        "\n",
        "Кажется все-таки выходом платформа [PythonAnywhere](https://www.pythonanywhere.com/), пример регистрации и начала работы есть [здесь](https://pythonhelp.ru/post/2018-11-24-pythonanywhere/)"
      ],
      "metadata": {
        "id": "E_W5QoUHOgDP"
      }
    },
    {
      "cell_type": "markdown",
      "source": [
        "### Еще несколько ботов...\n",
        "\n",
        "Студенческие проекты\n",
        "\n",
        "* очень [простой бот](https://github.com/AnnSenina/Python_for_CL/blob/main/notebooks/%D0%B4%D0%BE%D0%BF%D0%BE%D0%BB%D0%BD%D0%B8%D1%82%D0%B5%D0%BB%D1%8C%D0%BD%D1%8B%D0%B5%20%D1%82%D0%B5%D1%82%D1%80%D0%B0%D0%B4%D0%BA%D0%B8/hsepredictionsBot.ipynb) моей студентки - Вышкинская ворона с предсказаниями\n",
        "* бот [Baymax](https://github.com/Nikitosova/Baymax) - психологическая помощь, статьи по психологии (сейчас не запущен, но на гитхабе исходный код)\n",
        "* бот для изучения английского по [книгам Дж.Р.Р. Мартина](https://github.com/elizavetaTas/cl_project), пока код достаточно простой, бот не запущен, но исходники на гитхабе\n",
        "\n",
        "Без кода, только пообщаться с ботом для входновения\n",
        "* коммерческий чат-бот психолог [Сабина](https://vc.ru/tribuna/518295-sabina-ai-ii-avatar-chatbota-psihologa-s-kotorym-mozhno-obshchatsya-kak-s-chelovekom)\n",
        "* коммерческий бот [Тея](https://teyabot.com/) - советы по правильному питанию\n",
        "* легендарная [ELIZA](https://web.njit.edu/~ronkowit/eliza.html) (вернее, ее современная копия)"
      ],
      "metadata": {
        "id": "Y7CwbuBIRDAe"
      }
    }
  ]
}