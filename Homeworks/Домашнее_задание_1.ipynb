{
  "nbformat": 4,
  "nbformat_minor": 0,
  "metadata": {
    "colab": {
      "provenance": [],
      "authorship_tag": "ABX9TyNCSuA6aO88K2YiJEIloxfq",
      "include_colab_link": true
    },
    "kernelspec": {
      "name": "python3",
      "display_name": "Python 3"
    },
    "language_info": {
      "name": "python"
    }
  },
  "cells": [
    {
      "cell_type": "markdown",
      "metadata": {
        "id": "view-in-github",
        "colab_type": "text"
      },
      "source": [
        "<a href=\"https://colab.research.google.com/github/AnnSenina/Python_DH_2023/blob/main/Homeworks/%D0%94%D0%BE%D0%BC%D0%B0%D1%88%D0%BD%D0%B5%D0%B5_%D0%B7%D0%B0%D0%B4%D0%B0%D0%BD%D0%B8%D0%B5_1.ipynb\" target=\"_parent\"><img src=\"https://colab.research.google.com/assets/colab-badge.svg\" alt=\"Open In Colab\"/></a>"
      ]
    },
    {
      "cell_type": "markdown",
      "source": [
        "# Домашнее задание 1\n",
        "\n",
        "Создайте чат-бот в телеграме. В качество основы используйте материалы из [тетрадки](https://github.com/AnnSenina/Python_DH_2023/blob/main/Homeworks/%D0%A1%D0%BE%D0%B7%D0%B4%D0%B0%D0%BD%D0%B8%D0%B5%20%D1%82%D0%B5%D0%BB%D0%B5%D0%B3%D1%80%D0%B0%D0%BC-%D0%B1%D0%BE%D1%82%D0%B0.ipynb).\n",
        "\n",
        "## Срок сдачи: 1 марта 2023\n",
        "\n",
        "Бот может быть посвящен любой теме.\n",
        "\n",
        "Технические требования: \n",
        "* прописано приветствие\n",
        "* есть несколько веточек диалога с использованием if - elif - else\n",
        "* бот корректно отправляет сообщения в каждой веточке\n",
        "\n",
        "Дополнительно:\n",
        "\n",
        "* бот можно сделать более интерактивным, использовав выбор случайного ответа из списка заданных\n",
        "\n",
        "* можно (но не обязательно) добавить кнопки клавиатуры - если кнопок нет, убедитесь, что бот объясняет пользователю, каких ответов ждет\n",
        "* было бы полезно предобработать ответы пользователя: привести буквы к нижнему регистру, удалить пунктуацию в конце строки и т.д.\n"
      ],
      "metadata": {
        "id": "9jyE6uRlTxOd"
      }
    }
  ]
}